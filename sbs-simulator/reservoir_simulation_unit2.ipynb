{
  "nbformat": 4,
  "nbformat_minor": 0,
  "metadata": {
    "colab": {
      "name": "reservoir-simulation-unit2.ipynb",
      "provenance": [],
      "collapsed_sections": [
        "bKY1QwVRVCLB"
      ],
      "toc_visible": true,
      "authorship_tag": "ABX9TyNCdNlfxzPS/6m/RC6+nGdx",
      "include_colab_link": true
    },
    "kernelspec": {
      "name": "python3",
      "display_name": "Python 3"
    }
  },
  "cells": [
    {
      "cell_type": "markdown",
      "metadata": {
        "id": "view-in-github",
        "colab_type": "text"
      },
      "source": [
        "<a href=\"https://colab.research.google.com/github/yohanesnuwara/reservoir-simulation/blob/master/sbs-simulator/reservoir_simulation_unit2.ipynb\" target=\"_parent\"><img src=\"https://colab.research.google.com/assets/colab-badge.svg\" alt=\"Open In Colab\"/></a>"
      ]
    },
    {
      "cell_type": "code",
      "metadata": {
        "id": "jDISLLJs3tKN",
        "colab_type": "code",
        "colab": {}
      },
      "source": [
        "import numpy as np\n",
        "import matplotlib.pyplot as plt\n",
        "import pandas as pd\n",
        "from mpl_toolkits import mplot3d "
      ],
      "execution_count": 16,
      "outputs": []
    },
    {
      "cell_type": "markdown",
      "metadata": {
        "id": "ca5BRQQC4GSe",
        "colab_type": "text"
      },
      "source": [
        "### 1D"
      ]
    },
    {
      "cell_type": "code",
      "metadata": {
        "id": "L7k0SKve2PcT",
        "colab_type": "code",
        "colab": {
          "base_uri": "https://localhost:8080/",
          "height": 168
        },
        "outputId": "5f9072cc-34ce-4aa9-bbca-4fcbf1b3e00c"
      },
      "source": [
        "# blocks location\n",
        "block = np.arange(1, 6+1)\n",
        "\n",
        "# define parameters, in this case blocks are homogeneous and same in size\n",
        "dx = 250 # ft\n",
        "dy = 900\n",
        "dz = 100\n",
        "kx = 270 # md\n",
        "B = 1 # RB/STB\n",
        "mu = 2 # cp\n",
        "\n",
        "# assign all params to all blocks\n",
        "dx = np.full(len(block), dx)\n",
        "dy = np.full(len(block), dy)\n",
        "dz = np.full(len(block), dz)\n",
        "kx = np.full(len(block), kx)\n",
        "B = np.full(len(block), B)\n",
        "mu = np.full(len(block), mu)\n",
        "\n",
        "# source term\n",
        "qsc = np.zeros(len(block)) # initiate with zeros\n",
        "qsc[2], qsc[3] = 300, -400 # inject the source to block 3 and 4\n",
        "\n",
        "print('Right-Hand Side (RHS) of Flow equation in each internal block')\n",
        "print('1st term: Flow in X-direction from previous block')\n",
        "print('2nd term: Flow in X-direction from next block')\n",
        "print('3rd term: Source accumulation \\n')\n",
        "\n",
        "for i, j, k in zip(range(0, len(block)-2), range(1, len(block)-1), range(2, len(block))):\n",
        "  A = dy[j] * dz[j]\n",
        "  T_min = .001127 * (kx[j] * A) / (mu[j] * B[j] * dx[j])\n",
        "  T_plus = T_min \n",
        "  # print('Before {}, Now {}, After {}'.format(block[i], block[j], block[k]))\n",
        "  print('Block {}: {} (p{} - p{}) + {} (p{} - p{}) + {}'.format(block[j], T_min, block[i], block[j], T_plus, block[k], block[j], qsc[j]))\n"
      ],
      "execution_count": 17,
      "outputs": [
        {
          "output_type": "stream",
          "text": [
            "Right-Hand Side (RHS) of Flow equation in each internal block\n",
            "1st term: Flow in X-direction from previous block\n",
            "2nd term: Flow in X-direction from next block\n",
            "3rd term: Source accumulation \n",
            "\n",
            "Block 2: 54.7722 (p1 - p2) + 54.7722 (p3 - p2) + 0.0\n",
            "Block 3: 54.7722 (p2 - p3) + 54.7722 (p4 - p3) + 300.0\n",
            "Block 4: 54.7722 (p3 - p4) + 54.7722 (p5 - p4) + -400.0\n",
            "Block 5: 54.7722 (p4 - p5) + 54.7722 (p6 - p5) + 0.0\n"
          ],
          "name": "stdout"
        }
      ]
    },
    {
      "cell_type": "markdown",
      "metadata": {
        "id": "Ve2lTJjTLdPp",
        "colab_type": "text"
      },
      "source": [
        "## 2D"
      ]
    },
    {
      "cell_type": "markdown",
      "metadata": {
        "id": "d-7HR1tKDjgH",
        "colab_type": "text"
      },
      "source": [
        "### Case 1. From the book\n",
        "\n",
        "4x3 grid blocks, production in block 3,2"
      ]
    },
    {
      "cell_type": "code",
      "metadata": {
        "id": "citupSJArnXZ",
        "colab_type": "code",
        "colab": {
          "base_uri": "https://localhost:8080/",
          "height": 369
        },
        "outputId": "b7617a83-a298-4baf-f90a-1f14fd7c8886"
      },
      "source": [
        "xi = 4; yi = 3 # number of blocks in x and y\n",
        "\n",
        "# create block coordinates (Engineering Notation convention in Abou-Kassem)\n",
        "x_ = np.arange(1, xi+1)\n",
        "y_ = np.arange(1, yi+1)\n",
        "\n",
        "x, y = np.meshgrid(x_, y_, indexing='ij')\n",
        "\n",
        "# plot grid points\n",
        "plt.scatter(x, y)\n",
        "\n",
        "# Python starts indexing from 0. So, block 1,1 refers to [0,0], block 2,1\n",
        "# refers to [1,0] and so on. In other words, block i,j refers to [i-1,j-1]\n",
        "\n",
        "# print('Block {},{}'.format(x[2,1], y[2,1])) # print block 3,2\n",
        "\n",
        "# define parameters, in this case blocks are homogeneous and same in size\n",
        "dx = 250 # ft\n",
        "dy = 300\n",
        "dz = 100\n",
        "kx = 270 # md\n",
        "ky = 220\n",
        "B = 1 # RB/STB\n",
        "mu = 2 # cp\n",
        "\n",
        "# assign all params to all blocks\n",
        "dx = np.array([[dx]*yi]*xi)\n",
        "dy = np.array([[dy]*yi]*xi)\n",
        "dz = np.array([[dz]*yi]*xi)\n",
        "kx = np.array([[kx]*yi]*xi)\n",
        "ky = np.array([[ky]*yi]*xi)\n",
        "B = np.array([[B]*yi]*xi)\n",
        "mu = np.array([[mu]*yi]*xi)\n",
        "\n",
        "# source term\n",
        "xsc = 3; ysc = 2 # grid point (x and y coordinate) of the source \n",
        "q = -400 \n",
        "\n",
        "qsc = np.array([[0]*yi]*xi) # initiate with zeros\n",
        "qsc[xsc-1,ysc-1] = q # inject the source to block 3,2\n",
        "\n",
        "# plot the injected grid point\n",
        "plt.scatter(x[xsc-1,ysc-1], y[xsc-1,ysc-1], color='red')\n",
        "\n",
        "print('Source term (qsc) in Block {},{}: {} STB/D'. format(x[xsc-1,ysc-1], y[xsc-1,ysc-1], qsc[xsc-1,ysc-1]))\n",
        "\n",
        "print('Right-Hand Side (RHS) of Flow equation in each internal block \\n')\n",
        "\n",
        "for a, i, c in zip(range(0, xi-2), range(1, xi-1), range(2, xi)):\n",
        "  for d, j, e in zip(range(0, yi-2), range(1, yi-1), range(2, yi)):\n",
        "    Ax = dy[i,j] * dz[i,j]\n",
        "    Ay = dx[i,j] * dz[i,j]\n",
        "\n",
        "    # flow to x direction\n",
        "    Tx_min = .001127 * (kx[i,j] * Ax) / (mu[i,j] * B[i,j] * dx[i,j])\n",
        "    Tx_plus = Tx_min\n",
        "\n",
        "    # flow to y direction\n",
        "    Ty_min = .001127 * (ky[i,j] * Ay) / (mu[i,j] * B[i,j] * dy[i,j])\n",
        "    Ty_plus = Ty_min \n",
        " \n",
        "    # flow equation\n",
        "    print('Block {},{}: {} (p{},{} - p{},{}) + {} (p{},{} - p{},{}) + {} (p{},{} - p{},{}) + {} (p{},{} - p{},{}) + ({})'.format(i+1, j+1, Tx_min, a+1, j+1, i+1, j+1, Tx_plus, c+1, j+1, i+1, j+1, Ty_min, i+1, d+1, i+1, j+1, Ty_plus, i+1, e+1, i+1, j+1, qsc[i,j]))   "
      ],
      "execution_count": 18,
      "outputs": [
        {
          "output_type": "stream",
          "text": [
            "Source term (qsc) in Block 3,2: -400 STB/D\n",
            "Right-Hand Side (RHS) of Flow equation in each internal block \n",
            "\n",
            "Block 2,2: 18.257399999999997 (p1,2 - p2,2) + 18.257399999999997 (p3,2 - p2,2) + 10.330833333333333 (p2,1 - p2,2) + 10.330833333333333 (p2,3 - p2,2) + (0)\n",
            "Block 3,2: 18.257399999999997 (p2,2 - p3,2) + 18.257399999999997 (p4,2 - p3,2) + 10.330833333333333 (p3,1 - p3,2) + 10.330833333333333 (p3,3 - p3,2) + (-400)\n"
          ],
          "name": "stdout"
        },
        {
          "output_type": "display_data",
          "data": {
            "image/png": "[encoded data removed]",
            "text/plain": [
              "<Figure size 432x288 with 1 Axes>"
            ]
          },
          "metadata": {
            "tags": [],
            "needs_background": "light"
          }
        }
      ]
    },
    {
      "cell_type": "markdown",
      "metadata": {
        "id": "LEfSsI-5Dv59",
        "colab_type": "text"
      },
      "source": [
        "### Case 2. More grid blocks\n",
        "\n",
        "7x5 grid blocks, production in block 5,4"
      ]
    },
    {
      "cell_type": "code",
      "metadata": {
        "id": "WPiGHBSeFn_s",
        "colab_type": "code",
        "colab": {
          "base_uri": "https://localhost:8080/",
          "height": 587
        },
        "outputId": "4efa8f78-7e4b-41ed-d88f-15e6aea88607"
      },
      "source": [
        "xi = 7; yi = 5 # number of blocks in x and y\n",
        "\n",
        "# create block coordinates (Engineering Notation convention in Abou-Kassem)\n",
        "x_ = np.arange(1, xi+1)\n",
        "y_ = np.arange(1, yi+1)\n",
        "\n",
        "x, y = np.meshgrid(x_, y_, indexing='ij')\n",
        "\n",
        "# plot grid points\n",
        "plt.scatter(x, y)\n",
        "\n",
        "# Python starts indexing from 0. So, block 1,1 refers to [0,0], block 2,1\n",
        "# refers to [1,0] and so on. In other words, block i,j refers to [i-1,j-1]\n",
        "\n",
        "# print('Block {},{}'.format(x[2,1], y[2,1])) # print block 3,2\n",
        "\n",
        "# define parameters, in this case blocks are homogeneous and same in size\n",
        "dx = 250 # ft\n",
        "dy = 300\n",
        "dz = 100\n",
        "kx = 270 # md\n",
        "ky = 220\n",
        "B = 1 # RB/STB\n",
        "mu = 2 # cp\n",
        "\n",
        "# assign all params to all blocks\n",
        "dx = np.array([[dx]*yi]*xi)\n",
        "dy = np.array([[dy]*yi]*xi)\n",
        "dz = np.array([[dz]*yi]*xi)\n",
        "kx = np.array([[kx]*yi]*xi)\n",
        "ky = np.array([[ky]*yi]*xi)\n",
        "B = np.array([[B]*yi]*xi)\n",
        "mu = np.array([[mu]*yi]*xi)\n",
        "\n",
        "# source term\n",
        "xsc = 5; ysc = 4 # grid point (x and y coordinate) of the source \n",
        "q = -400 \n",
        "\n",
        "qsc = np.array([[0]*yi]*xi) # initiate with zeros\n",
        "qsc[xsc-1,ysc-1] = q # inject the source to block 5,4\n",
        "\n",
        "# plot the injected grid point\n",
        "plt.scatter(x[xsc-1,ysc-1], y[xsc-1,ysc-1], color='red')\n",
        "\n",
        "print('Source term (qsc) in Block {},{}: {} STB/D'. format(x[xsc-1,ysc-1], y[xsc-1,ysc-1], qsc[xsc-1,ysc-1]))\n",
        "\n",
        "print('Right-Hand Side (RHS) of Flow equation in each internal block \\n')\n",
        "\n",
        "for a, i, c in zip(range(0, xi-2), range(1, xi-1), range(2, xi)):\n",
        "  for d, j, e in zip(range(0, yi-2), range(1, yi-1), range(2, yi)):\n",
        "    Ax = dy[i,j] * dz[i,j]\n",
        "    Ay = dx[i,j] * dz[i,j]\n",
        "\n",
        "    # flow to x direction\n",
        "    Tx_min = .001127 * (kx[i,j] * Ax) / (mu[i,j] * B[i,j] * dx[i,j])\n",
        "    Tx_plus = Tx_min\n",
        "\n",
        "    # flow to y direction\n",
        "    Ty_min = .001127 * (ky[i,j] * Ay) / (mu[i,j] * B[i,j] * dy[i,j])\n",
        "    Ty_plus = Ty_min \n",
        " \n",
        "    # flow equation\n",
        "    print('Block {},{}: {} (p{},{} - p{},{}) + {} (p{},{} - p{},{}) + {} (p{},{} - p{},{}) + {} (p{},{} - p{},{}) + ({})'.format(i+1, j+1, Tx_min, a+1, j+1, i+1, j+1, Tx_plus, c+1, j+1, i+1, j+1, Ty_min, i+1, d+1, i+1, j+1, Ty_plus, i+1, e+1, i+1, j+1, qsc[i,j]))  "
      ],
      "execution_count": 19,
      "outputs": [
        {
          "output_type": "stream",
          "text": [
            "Source term (qsc) in Block 5,4: -400 STB/D\n",
            "Right-Hand Side (RHS) of Flow equation in each internal block \n",
            "\n",
            "Block 2,2: 18.257399999999997 (p1,2 - p2,2) + 18.257399999999997 (p3,2 - p2,2) + 10.330833333333333 (p2,1 - p2,2) + 10.330833333333333 (p2,3 - p2,2) + (0)\n",
            "Block 2,3: 18.257399999999997 (p1,3 - p2,3) + 18.257399999999997 (p3,3 - p2,3) + 10.330833333333333 (p2,2 - p2,3) + 10.330833333333333 (p2,4 - p2,3) + (0)\n",
            "Block 2,4: 18.257399999999997 (p1,4 - p2,4) + 18.257399999999997 (p3,4 - p2,4) + 10.330833333333333 (p2,3 - p2,4) + 10.330833333333333 (p2,5 - p2,4) + (0)\n",
            "Block 3,2: 18.257399999999997 (p2,2 - p3,2) + 18.257399999999997 (p4,2 - p3,2) + 10.330833333333333 (p3,1 - p3,2) + 10.330833333333333 (p3,3 - p3,2) + (0)\n",
            "Block 3,3: 18.257399999999997 (p2,3 - p3,3) + 18.257399999999997 (p4,3 - p3,3) + 10.330833333333333 (p3,2 - p3,3) + 10.330833333333333 (p3,4 - p3,3) + (0)\n",
            "Block 3,4: 18.257399999999997 (p2,4 - p3,4) + 18.257399999999997 (p4,4 - p3,4) + 10.330833333333333 (p3,3 - p3,4) + 10.330833333333333 (p3,5 - p3,4) + (0)\n",
            "Block 4,2: 18.257399999999997 (p3,2 - p4,2) + 18.257399999999997 (p5,2 - p4,2) + 10.330833333333333 (p4,1 - p4,2) + 10.330833333333333 (p4,3 - p4,2) + (0)\n",
            "Block 4,3: 18.257399999999997 (p3,3 - p4,3) + 18.257399999999997 (p5,3 - p4,3) + 10.330833333333333 (p4,2 - p4,3) + 10.330833333333333 (p4,4 - p4,3) + (0)\n",
            "Block 4,4: 18.257399999999997 (p3,4 - p4,4) + 18.257399999999997 (p5,4 - p4,4) + 10.330833333333333 (p4,3 - p4,4) + 10.330833333333333 (p4,5 - p4,4) + (0)\n",
            "Block 5,2: 18.257399999999997 (p4,2 - p5,2) + 18.257399999999997 (p6,2 - p5,2) + 10.330833333333333 (p5,1 - p5,2) + 10.330833333333333 (p5,3 - p5,2) + (0)\n",
            "Block 5,3: 18.257399999999997 (p4,3 - p5,3) + 18.257399999999997 (p6,3 - p5,3) + 10.330833333333333 (p5,2 - p5,3) + 10.330833333333333 (p5,4 - p5,3) + (0)\n",
            "Block 5,4: 18.257399999999997 (p4,4 - p5,4) + 18.257399999999997 (p6,4 - p5,4) + 10.330833333333333 (p5,3 - p5,4) + 10.330833333333333 (p5,5 - p5,4) + (-400)\n",
            "Block 6,2: 18.257399999999997 (p5,2 - p6,2) + 18.257399999999997 (p7,2 - p6,2) + 10.330833333333333 (p6,1 - p6,2) + 10.330833333333333 (p6,3 - p6,2) + (0)\n",
            "Block 6,3: 18.257399999999997 (p5,3 - p6,3) + 18.257399999999997 (p7,3 - p6,3) + 10.330833333333333 (p6,2 - p6,3) + 10.330833333333333 (p6,4 - p6,3) + (0)\n",
            "Block 6,4: 18.257399999999997 (p5,4 - p6,4) + 18.257399999999997 (p7,4 - p6,4) + 10.330833333333333 (p6,3 - p6,4) + 10.330833333333333 (p6,5 - p6,4) + (0)\n"
          ],
          "name": "stdout"
        },
        {
          "output_type": "display_data",
          "data": {
            "image/png": "[encoded data removed]",
            "text/plain": [
              "<Figure size 432x288 with 1 Axes>"
            ]
          },
          "metadata": {
            "tags": [],
            "needs_background": "light"
          }
        }
      ]
    },
    {
      "cell_type": "markdown",
      "metadata": {
        "id": "atYn6-ANHrXo",
        "colab_type": "text"
      },
      "source": [
        "### Case 3. More grid blocks with more source terms\n",
        "\n",
        "* 7x5 grid blocks\n",
        "* Production in block (2,3), (3,2), (4,3) with rate 300 STB/D\n",
        "* Injection in block (5,4), (6,2) with rate 250 STB/D"
      ]
    },
    {
      "cell_type": "code",
      "metadata": {
        "id": "nq537qU_Hv4c",
        "colab_type": "code",
        "colab": {
          "base_uri": "https://localhost:8080/",
          "height": 654
        },
        "outputId": "89c369bf-9b56-4a24-ff54-74064c7426a8"
      },
      "source": [
        "xi = 7; yi = 5 # number of blocks in x and y\n",
        "\n",
        "# create block coordinates (Engineering Notation convention in Abou-Kassem)\n",
        "x_ = np.arange(1, xi+1)\n",
        "y_ = np.arange(1, yi+1)\n",
        "\n",
        "# meshgrid the block coordinates\n",
        "x, y = np.meshgrid(x_, y_, indexing='ij')\n",
        "\n",
        "# plot grid points\n",
        "plt.scatter(x, y)\n",
        "\n",
        "# define parameters, in this case blocks are homogeneous and same in size\n",
        "dx = 250 # ft\n",
        "dy = 300\n",
        "dz = 100\n",
        "kx = 270 # md\n",
        "ky = 220\n",
        "B = 1 # RB/STB\n",
        "mu = 2 # cp\n",
        "\n",
        "# assign all params to all blocks\n",
        "# why yi*xi? Python describes a 2D array as (rows, columns), OR (y,x)\n",
        "dx = np.array([[dx]*yi]*xi)\n",
        "dy = np.array([[dy]*yi]*xi)\n",
        "dz = np.array([[dz]*yi]*xi)\n",
        "kx = np.array([[kx]*yi]*xi)\n",
        "ky = np.array([[ky]*yi]*xi)\n",
        "B = np.array([[B]*yi]*xi)\n",
        "mu = np.array([[mu]*yi]*xi)\n",
        "\n",
        "# source term\n",
        "\n",
        "# define the x and y reservoir coordinates \n",
        "xsc = np.array([2,3,4,5,6])\n",
        "ysc = np.array([3,2,3,4,2])\n",
        "\n",
        "# Python starts indexing from 0. So, block 1,1 refers to [0,0], block 2,1\n",
        "# refers to [1,0] and so on. In other words, block i,j refers to [i-1,j-1]\n",
        "xsc = xsc - 1; ysc = ysc - 1\n",
        "\n",
        "# define rate of each source term \n",
        "q = np.array([-300, -300, -300, 250, 250]) \n",
        "\n",
        "# initiate with zeros. same method with above dx, dy, kx, ky, etc.\n",
        "qsc = np.array([[0]*yi]*xi) \n",
        "\n",
        "# replace the zeros at coordinate of source term, with the rate of source term\n",
        "for i, j, k in zip(xsc, ysc, range(len(q))):\n",
        "  qsc[i][j] = q[k]\n",
        "\n",
        "# plot the injected grid point\n",
        "for i, j in zip(xsc, ysc):\n",
        "  plt.scatter(x[i,j], y[i,j], color='red')\n",
        "\n",
        "print('Right-Hand Side (RHS) of Flow equation in each internal block')\n",
        "print('1st term: Flow in X-direction from previous block')\n",
        "print('2nd term: Flow in X-direction from next block')\n",
        "print('3rd term: Flow in Y-direction from previous block')\n",
        "print('4th term: Flow in Y-direction from next block')\n",
        "print('5th term: Source accumulation \\n')\n",
        "\n",
        "for a, i, c in zip(range(0, xi-2), range(1, xi-1), range(2, xi)):\n",
        "  for d, j, e in zip(range(0, yi-2), range(1, yi-1), range(2, yi)):\n",
        "    Ax = dy[i,j] * dz[i,j]\n",
        "    Ay = dx[i,j] * dz[i,j]\n",
        "\n",
        "    # flow to x direction\n",
        "    Tx_min = .001127 * (kx[i,j] * Ax) / (mu[i,j] * B[i,j] * dx[i,j])\n",
        "    Tx_plus = Tx_min\n",
        "\n",
        "    # flow to y direction\n",
        "    Ty_min = .001127 * (ky[i,j] * Ay) / (mu[i,j] * B[i,j] * dy[i,j])\n",
        "    Ty_plus = Ty_min \n",
        " \n",
        "    # flow equation\n",
        "    print('Block {},{}: {} (p{},{} - p{},{}) + {} (p{},{} - p{},{}) + {} (p{},{} - p{},{}) + {} (p{},{} - p{},{}) + ({})'.format(i+1, j+1, Tx_min, a+1, j+1, i+1, j+1, Tx_plus, c+1, j+1, i+1, j+1, Ty_min, i+1, d+1, i+1, j+1, Ty_plus, i+1, e+1, i+1, j+1, qsc[i,j]))  "
      ],
      "execution_count": 42,
      "outputs": [
        {
          "output_type": "stream",
          "text": [
            "Right-Hand Side (RHS) of Flow equation in each internal block\n",
            "1st term: Flow in X-direction from previous block\n",
            "2nd term: Flow in X-direction from next block\n",
            "3rd term: Flow in Y-direction from previous block\n",
            "4th term: Flow in Y-direction from next block\n",
            "5th term: Source accumulation \n",
            "\n",
            "Block 2,2: 18.257399999999997 (p1,2 - p2,2) + 18.257399999999997 (p3,2 - p2,2) + 10.330833333333333 (p2,1 - p2,2) + 10.330833333333333 (p2,3 - p2,2) + (0)\n",
            "Block 2,3: 18.257399999999997 (p1,3 - p2,3) + 18.257399999999997 (p3,3 - p2,3) + 10.330833333333333 (p2,2 - p2,3) + 10.330833333333333 (p2,4 - p2,3) + (-300)\n",
            "Block 2,4: 18.257399999999997 (p1,4 - p2,4) + 18.257399999999997 (p3,4 - p2,4) + 10.330833333333333 (p2,3 - p2,4) + 10.330833333333333 (p2,5 - p2,4) + (0)\n",
            "Block 3,2: 18.257399999999997 (p2,2 - p3,2) + 18.257399999999997 (p4,2 - p3,2) + 10.330833333333333 (p3,1 - p3,2) + 10.330833333333333 (p3,3 - p3,2) + (-300)\n",
            "Block 3,3: 18.257399999999997 (p2,3 - p3,3) + 18.257399999999997 (p4,3 - p3,3) + 10.330833333333333 (p3,2 - p3,3) + 10.330833333333333 (p3,4 - p3,3) + (0)\n",
            "Block 3,4: 18.257399999999997 (p2,4 - p3,4) + 18.257399999999997 (p4,4 - p3,4) + 10.330833333333333 (p3,3 - p3,4) + 10.330833333333333 (p3,5 - p3,4) + (0)\n",
            "Block 4,2: 18.257399999999997 (p3,2 - p4,2) + 18.257399999999997 (p5,2 - p4,2) + 10.330833333333333 (p4,1 - p4,2) + 10.330833333333333 (p4,3 - p4,2) + (0)\n",
            "Block 4,3: 18.257399999999997 (p3,3 - p4,3) + 18.257399999999997 (p5,3 - p4,3) + 10.330833333333333 (p4,2 - p4,3) + 10.330833333333333 (p4,4 - p4,3) + (-300)\n",
            "Block 4,4: 18.257399999999997 (p3,4 - p4,4) + 18.257399999999997 (p5,4 - p4,4) + 10.330833333333333 (p4,3 - p4,4) + 10.330833333333333 (p4,5 - p4,4) + (0)\n",
            "Block 5,2: 18.257399999999997 (p4,2 - p5,2) + 18.257399999999997 (p6,2 - p5,2) + 10.330833333333333 (p5,1 - p5,2) + 10.330833333333333 (p5,3 - p5,2) + (0)\n",
            "Block 5,3: 18.257399999999997 (p4,3 - p5,3) + 18.257399999999997 (p6,3 - p5,3) + 10.330833333333333 (p5,2 - p5,3) + 10.330833333333333 (p5,4 - p5,3) + (0)\n",
            "Block 5,4: 18.257399999999997 (p4,4 - p5,4) + 18.257399999999997 (p6,4 - p5,4) + 10.330833333333333 (p5,3 - p5,4) + 10.330833333333333 (p5,5 - p5,4) + (250)\n",
            "Block 6,2: 18.257399999999997 (p5,2 - p6,2) + 18.257399999999997 (p7,2 - p6,2) + 10.330833333333333 (p6,1 - p6,2) + 10.330833333333333 (p6,3 - p6,2) + (250)\n",
            "Block 6,3: 18.257399999999997 (p5,3 - p6,3) + 18.257399999999997 (p7,3 - p6,3) + 10.330833333333333 (p6,2 - p6,3) + 10.330833333333333 (p6,4 - p6,3) + (0)\n",
            "Block 6,4: 18.257399999999997 (p5,4 - p6,4) + 18.257399999999997 (p7,4 - p6,4) + 10.330833333333333 (p6,3 - p6,4) + 10.330833333333333 (p6,5 - p6,4) + (0)\n"
          ],
          "name": "stdout"
        },
        {
          "output_type": "display_data",
          "data": {
            "image/png": "[encoded data removed]",
            "text/plain": [
              "<Figure size 432x288 with 1 Axes>"
            ]
          },
          "metadata": {
            "tags": [],
            "needs_background": "light"
          }
        }
      ]
    },
    {
      "cell_type": "code",
      "metadata": {
        "id": "qKkchtCCXhW4",
        "colab_type": "code",
        "colab": {
          "base_uri": "https://localhost:8080/",
          "height": 269
        },
        "outputId": "9eea4278-2fcf-42cb-886b-86b11fddf4c2"
      },
      "source": [
        "# plt.scatter(x, y)\n",
        "# plt.imshow(qsc.T, extent=(1.5,xi,1.5,yi), origin='lower', vmin=-500, vmax=500, cmap='viridis', interpolation=\"none\")\n",
        "plt.imshow(qsc.T, origin='lower', vmin=-500, vmax=500, cmap='viridis', interpolation=\"none\")\n",
        "# plt.xlim(xmin=0); plt.ylim(ymin=0)\n",
        "plt.colorbar()"
      ],
      "execution_count": 78,
      "outputs": [
        {
          "output_type": "execute_result",
          "data": {
            "text/plain": [
              "<matplotlib.colorbar.Colorbar at 0x7fbc89d35860>"
            ]
          },
          "metadata": {
            "tags": []
          },
          "execution_count": 78
        },
        {
          "output_type": "display_data",
          "data": {
            "image/png": "[encoded data removed]",
            "text/plain": [
              "<Figure size 432x288 with 2 Axes>"
            ]
          },
          "metadata": {
            "tags": [],
            "needs_background": "light"
          }
        }
      ]
    },
    {
      "cell_type": "markdown",
      "metadata": {
        "id": "bKY1QwVRVCLB",
        "colab_type": "text"
      },
      "source": [
        "### Explanation of Code in Case 3"
      ]
    },
    {
      "cell_type": "markdown",
      "metadata": {
        "id": "CZvIOvDVVFc_",
        "colab_type": "text"
      },
      "source": [
        "This code is hopefully applicable to any 2D case, multiple grid blocks and multiple production / injection grids.\n",
        "\n",
        "Below is detailed explanation step-by-step."
      ]
    },
    {
      "cell_type": "markdown",
      "metadata": {
        "id": "BNUhjo0-W8Z8",
        "colab_type": "text"
      },
      "source": [
        "Define number of blocks in x and y direction, as `xi` and `yi`\n",
        "\n",
        "Use `np.meshgrid` to generate the x and y grid points\n",
        "\n",
        "In this case, we are creating 7x5 grid blocks"
      ]
    },
    {
      "cell_type": "code",
      "metadata": {
        "id": "ugn3vuurXYQp",
        "colab_type": "code",
        "colab": {}
      },
      "source": [
        "xi = 7; yi = 5 # number of blocks in x and y\n",
        "\n",
        "# create block coordinates (Engineering Notation convention in Abou-Kassem)\n",
        "x_ = np.arange(1, xi+1)\n",
        "y_ = np.arange(1, yi+1)\n",
        "\n",
        "x, y = np.meshgrid(x_, y_, indexing='ij')"
      ],
      "execution_count": 21,
      "outputs": []
    },
    {
      "cell_type": "markdown",
      "metadata": {
        "id": "z6HLBNTLYtsf",
        "colab_type": "text"
      },
      "source": [
        "Concern should be taken care of here. \n",
        "\n",
        "The \"engineering notation\" that Abou-Kassem in the book mentioned is described in the following figure.\n",
        "\n",
        "<div>\n",
        "<img src=\"https://user-images.githubusercontent.com/51282928/87338802-ead39d00-c56f-11ea-8b03-9ee238c6c273.PNG\" width=\"300\"/>\n",
        "</div>\n",
        "\n",
        "There is a difference on how the reservoir and the numpy `meshgrid` notates. See figure below. The true notation is the reservoir notation, on the left. The right is `meshgrid`. \n",
        "\n",
        "<div>\n",
        "<img src=\"https://user-images.githubusercontent.com/51282928/87341149-4fdcc200-c573-11ea-908b-bf03c805acf8.png\" width=\"500\"/>\n",
        "</div>\n",
        "\n",
        "If we plot this meshgrid, the plot will be presenting the true reservoir notation. \n",
        "\n",
        "\n",
        "\n",
        "\n"
      ]
    },
    {
      "cell_type": "code",
      "metadata": {
        "id": "u3Um5EEjeaUx",
        "colab_type": "code",
        "colab": {
          "base_uri": "https://localhost:8080/",
          "height": 0
        },
        "outputId": "a649be1e-1519-4ab6-a785-9c151d6e4b6e"
      },
      "source": [
        "print(\"Result of meshgrid\")\n",
        "print(x, '\\n')\n",
        "print(y, '\\n')\n",
        "\n",
        "# plot grid points\n",
        "plt.scatter(x, y)\n",
        "plt.show()"
      ],
      "execution_count": 22,
      "outputs": [
        {
          "output_type": "stream",
          "text": [
            "Result of meshgrid\n",
            "[[1 1 1 1 1]\n",
            " [2 2 2 2 2]\n",
            " [3 3 3 3 3]\n",
            " [4 4 4 4 4]\n",
            " [5 5 5 5 5]\n",
            " [6 6 6 6 6]\n",
            " [7 7 7 7 7]] \n",
            "\n",
            "[[1 2 3 4 5]\n",
            " [1 2 3 4 5]\n",
            " [1 2 3 4 5]\n",
            " [1 2 3 4 5]\n",
            " [1 2 3 4 5]\n",
            " [1 2 3 4 5]\n",
            " [1 2 3 4 5]] \n",
            "\n"
          ],
          "name": "stdout"
        },
        {
          "output_type": "display_data",
          "data": {
            "image/png": "[encoded data removed]",
            "text/plain": [
              "<Figure size 432x288 with 1 Axes>"
            ]
          },
          "metadata": {
            "tags": [],
            "needs_background": "light"
          }
        }
      ]
    },
    {
      "cell_type": "code",
      "metadata": {
        "id": "uRBWrxkIndXD",
        "colab_type": "code",
        "colab": {
          "base_uri": "https://localhost:8080/",
          "height": 0
        },
        "outputId": "59740821-5994-46e3-ce9a-d5a2a86dda5c"
      },
      "source": [
        "x.shape"
      ],
      "execution_count": 23,
      "outputs": [
        {
          "output_type": "execute_result",
          "data": {
            "text/plain": [
              "(7, 5)"
            ]
          },
          "metadata": {
            "tags": []
          },
          "execution_count": 23
        }
      ]
    },
    {
      "cell_type": "markdown",
      "metadata": {
        "id": "TMb4P8wYYSCo",
        "colab_type": "text"
      },
      "source": [
        "Input parameters. The reservoir grid blocks are identical in size and homogeneous (constant x-direction permeability `kx` and y-direction permeability `ky` throughout)"
      ]
    },
    {
      "cell_type": "code",
      "metadata": {
        "id": "Sknn6z3vX8_Q",
        "colab_type": "code",
        "colab": {}
      },
      "source": [
        "# define parameters, in this case blocks are homogeneous and same in size\n",
        "dx = 250 # ft\n",
        "dy = 300\n",
        "dz = 100\n",
        "kx = 270 # md\n",
        "ky = 220\n",
        "B = 1 # RB/STB\n",
        "mu = 2 # cp"
      ],
      "execution_count": 24,
      "outputs": []
    },
    {
      "cell_type": "markdown",
      "metadata": {
        "id": "i2ksls6dhGjL",
        "colab_type": "text"
      },
      "source": [
        "Populate all the gridblocks "
      ]
    },
    {
      "cell_type": "markdown",
      "metadata": {
        "id": "b1e24WcpYmeS",
        "colab_type": "text"
      },
      "source": [
        ""
      ]
    },
    {
      "cell_type": "code",
      "metadata": {
        "id": "x1BJkU9fXVMN",
        "colab_type": "code",
        "colab": {
          "base_uri": "https://localhost:8080/",
          "height": 0
        },
        "outputId": "a57b5317-d421-4d4d-f79e-feb01fbd9f6e"
      },
      "source": [
        "xi = 7; yi = 5 # number of blocks in x and y\n",
        "\n",
        "# create block coordinates (Engineering Notation convention in Abou-Kassem)\n",
        "x_ = np.arange(1, xi+1)\n",
        "y_ = np.arange(1, yi+1)\n",
        "\n",
        "x, y = np.meshgrid(x_, y_, indexing='ij')\n",
        "\n",
        "# plot grid points\n",
        "plt.scatter(x, y)\n",
        "\n",
        "# Python starts indexing from 0. So, block 1,1 refers to [0,0], block 2,1\n",
        "# refers to [1,0] and so on. In other words, block i,j refers to [i-1,j-1]\n",
        "\n",
        "# print('Block {},{}'.format(x[2,1], y[2,1])) # print block 3,2\n",
        "\n",
        "# define parameters, in this case blocks are homogeneous and same in size\n",
        "dx = 250 # ft\n",
        "dy = 300\n",
        "dz = 100\n",
        "kx = 270 # md\n",
        "ky = 220\n",
        "B = 1 # RB/STB\n",
        "mu = 2 # cp\n",
        "\n",
        "# assign all params to all blocks\n",
        "dx = np.array([[dx]*yi]*xi)\n",
        "dy = np.array([[dy]*yi]*xi)\n",
        "dz = np.array([[dz]*yi]*xi)\n",
        "kx = np.array([[kx]*yi]*xi)\n",
        "ky = np.array([[ky]*yi]*xi)\n",
        "B = np.array([[B]*yi]*xi)\n",
        "mu = np.array([[mu]*yi]*xi)\n",
        "\n",
        "# source term\n",
        "xsc = np.array([2,3,4,5,6])\n",
        "ysc = np.array([3,2,3,4,2]) # grid point (x and y coordinate) of the source \n",
        "xsc = xsc - 1; ysc = ysc - 1\n",
        "q = np.array([-300, -300, -300, 250, 250]) \n",
        "\n",
        "qsc = np.array([[0]*yi]*xi) # initiate with zeros\n",
        "\n",
        "# inject the source to the blocks\n",
        "for i, j, k in zip(xsc, ysc, range(len(q))):\n",
        "  qsc[i][j] = q[k]\n",
        "\n",
        "print(qsc)\n",
        "\n",
        "# plot the injected grid point\n",
        "for i, j in zip(xsc, ysc):\n",
        "  plt.scatter(x[i,j], y[i,j], color='red')\n",
        "\n",
        "plt.scatter(xsc, ysc, color='red')\n",
        "\n",
        "print('Right-Hand Side (RHS) of Flow equation in each internal block \\n')\n",
        "\n",
        "for a, i, c in zip(range(0, xi-2), range(1, xi-1), range(2, xi)):\n",
        "  for d, j, e in zip(range(0, yi-2), range(1, yi-1), range(2, yi)):\n",
        "    Ax = dy[i,j] * dz[i,j]\n",
        "    Ay = dx[i,j] * dz[i,j]\n",
        "\n",
        "    # flow to x direction\n",
        "    Tx_min = .001127 * (kx[i,j] * Ax) / (mu[i,j] * B[i,j] * dx[i,j])\n",
        "    Tx_plus = Tx_min\n",
        "\n",
        "    # flow to y direction\n",
        "    Ty_min = .001127 * (ky[i,j] * Ay) / (mu[i,j] * B[i,j] * dy[i,j])\n",
        "    Ty_plus = Ty_min \n",
        " \n",
        "    # flow equation\n",
        "    print('Block {},{}: {} (p{},{} - p{},{}) + {} (p{},{} - p{},{}) + {} (p{},{} - p{},{}) + {} (p{},{} - p{},{}) + ({})'.format(i+1, j+1, Tx_min, a+1, j+1, i+1, j+1, Tx_plus, c+1, j+1, i+1, j+1, Ty_min, i+1, d+1, i+1, j+1, Ty_plus, i+1, e+1, i+1, j+1, qsc[i,j])) "
      ],
      "execution_count": 25,
      "outputs": [
        {
          "output_type": "stream",
          "text": [
            "[[   0    0    0    0    0]\n",
            " [   0    0 -300    0    0]\n",
            " [   0 -300    0    0    0]\n",
            " [   0    0 -300    0    0]\n",
            " [   0    0    0  250    0]\n",
            " [   0  250    0    0    0]\n",
            " [   0    0    0    0    0]]\n",
            "Right-Hand Side (RHS) of Flow equation in each internal block \n",
            "\n",
            "Block 2,2: 18.257399999999997 (p1,2 - p2,2) + 18.257399999999997 (p3,2 - p2,2) + 10.330833333333333 (p2,1 - p2,2) + 10.330833333333333 (p2,3 - p2,2) + (0)\n",
            "Block 2,3: 18.257399999999997 (p1,3 - p2,3) + 18.257399999999997 (p3,3 - p2,3) + 10.330833333333333 (p2,2 - p2,3) + 10.330833333333333 (p2,4 - p2,3) + (-300)\n",
            "Block 2,4: 18.257399999999997 (p1,4 - p2,4) + 18.257399999999997 (p3,4 - p2,4) + 10.330833333333333 (p2,3 - p2,4) + 10.330833333333333 (p2,5 - p2,4) + (0)\n",
            "Block 3,2: 18.257399999999997 (p2,2 - p3,2) + 18.257399999999997 (p4,2 - p3,2) + 10.330833333333333 (p3,1 - p3,2) + 10.330833333333333 (p3,3 - p3,2) + (-300)\n",
            "Block 3,3: 18.257399999999997 (p2,3 - p3,3) + 18.257399999999997 (p4,3 - p3,3) + 10.330833333333333 (p3,2 - p3,3) + 10.330833333333333 (p3,4 - p3,3) + (0)\n",
            "Block 3,4: 18.257399999999997 (p2,4 - p3,4) + 18.257399999999997 (p4,4 - p3,4) + 10.330833333333333 (p3,3 - p3,4) + 10.330833333333333 (p3,5 - p3,4) + (0)\n",
            "Block 4,2: 18.257399999999997 (p3,2 - p4,2) + 18.257399999999997 (p5,2 - p4,2) + 10.330833333333333 (p4,1 - p4,2) + 10.330833333333333 (p4,3 - p4,2) + (0)\n",
            "Block 4,3: 18.257399999999997 (p3,3 - p4,3) + 18.257399999999997 (p5,3 - p4,3) + 10.330833333333333 (p4,2 - p4,3) + 10.330833333333333 (p4,4 - p4,3) + (-300)\n",
            "Block 4,4: 18.257399999999997 (p3,4 - p4,4) + 18.257399999999997 (p5,4 - p4,4) + 10.330833333333333 (p4,3 - p4,4) + 10.330833333333333 (p4,5 - p4,4) + (0)\n",
            "Block 5,2: 18.257399999999997 (p4,2 - p5,2) + 18.257399999999997 (p6,2 - p5,2) + 10.330833333333333 (p5,1 - p5,2) + 10.330833333333333 (p5,3 - p5,2) + (0)\n",
            "Block 5,3: 18.257399999999997 (p4,3 - p5,3) + 18.257399999999997 (p6,3 - p5,3) + 10.330833333333333 (p5,2 - p5,3) + 10.330833333333333 (p5,4 - p5,3) + (0)\n",
            "Block 5,4: 18.257399999999997 (p4,4 - p5,4) + 18.257399999999997 (p6,4 - p5,4) + 10.330833333333333 (p5,3 - p5,4) + 10.330833333333333 (p5,5 - p5,4) + (250)\n",
            "Block 6,2: 18.257399999999997 (p5,2 - p6,2) + 18.257399999999997 (p7,2 - p6,2) + 10.330833333333333 (p6,1 - p6,2) + 10.330833333333333 (p6,3 - p6,2) + (250)\n",
            "Block 6,3: 18.257399999999997 (p5,3 - p6,3) + 18.257399999999997 (p7,3 - p6,3) + 10.330833333333333 (p6,2 - p6,3) + 10.330833333333333 (p6,4 - p6,3) + (0)\n",
            "Block 6,4: 18.257399999999997 (p5,4 - p6,4) + 18.257399999999997 (p7,4 - p6,4) + 10.330833333333333 (p6,3 - p6,4) + 10.330833333333333 (p6,5 - p6,4) + (0)\n"
          ],
          "name": "stdout"
        },
        {
          "output_type": "display_data",
          "data": {
            "image/png": "[encoded data removed]",
            "text/plain": [
              "<Figure size 432x288 with 1 Axes>"
            ]
          },
          "metadata": {
            "tags": [],
            "needs_background": "light"
          }
        }
      ]
    },
    {
      "cell_type": "code",
      "metadata": {
        "id": "pYKJrD5HOgPS",
        "colab_type": "code",
        "colab": {
          "base_uri": "https://localhost:8080/",
          "height": 0
        },
        "outputId": "e1231248-37ac-48b5-c89d-e6e77e4e9c38"
      },
      "source": [
        "a = [1,2,3,4,5]\n",
        "c = [20,30,40,50,60]\n",
        "\n",
        "for i in range(len(a)):\n",
        "    a[i]=c[i]\n",
        "    print(a)"
      ],
      "execution_count": 26,
      "outputs": [
        {
          "output_type": "stream",
          "text": [
            "[20, 2, 3, 4, 5]\n",
            "[20, 30, 3, 4, 5]\n",
            "[20, 30, 40, 4, 5]\n",
            "[20, 30, 40, 50, 5]\n",
            "[20, 30, 40, 50, 60]\n"
          ],
          "name": "stdout"
        }
      ]
    },
    {
      "cell_type": "markdown",
      "metadata": {
        "id": "Q82wbEjTK0es",
        "colab_type": "text"
      },
      "source": [
        "## 3D"
      ]
    },
    {
      "cell_type": "code",
      "metadata": {
        "id": "f-CVVsHX8iAG",
        "colab_type": "code",
        "colab": {
          "base_uri": "https://localhost:8080/",
          "height": 633
        },
        "outputId": "f64a86ad-6ff2-4408-b122-0e3b1c94105d"
      },
      "source": [
        "xi = 4; yi = 3; zi = 3 # number of blocks in x, y, z\n",
        "\n",
        "# create block coordinates (Engineering Notation convention in Abou-Kassem)\n",
        "x_ = np.arange(1, xi+1)\n",
        "y_ = np.arange(1, yi+1)\n",
        "z_ = np.arange(1, zi+1)\n",
        "\n",
        "# meshgrid the block coordinates\n",
        "x, y, z = np.meshgrid(x_, y_, z_, indexing='ij')\n",
        "\n",
        "print('Block {},{},{}'.format(x[2,1,1], y[2,1,1], z[2,1,1]))\n",
        "\n",
        "# plot the grid points\n",
        "fig = plt.figure(figsize = (10, 7)) \n",
        "ax = plt.axes(projection =\"3d\") \n",
        "ax.scatter3D(x, y, z)\n",
        "# ax.scatter3D(x[2,1,1], y[2,1,1], z[2,1,1], s=50, color='red')\n",
        "plt.show()\n",
        "\n",
        "# define parameters, in this case blocks are homogeneous and same in size\n",
        "dx = 250 # ft\n",
        "dy = 300\n",
        "dz = 33.333\n",
        "kx = 270 # md\n",
        "ky = 220\n",
        "kz = 50\n",
        "B = 1 # RB/STB\n",
        "mu = 2 # cp\n",
        "rho = 55 # fluid density, lbm/ft3\n",
        "\n",
        "# assign all params to all blocks\n",
        "# why yi*xi? Python describes a 3D array as (z, rows, columns), OR (z,y,x)\n",
        "dx = np.array([[[dx]*zi]*yi]*xi)\n",
        "dy = np.array([[[dy]*zi]*yi]*xi)\n",
        "dz = np.array([[[dz]*zi]*yi]*xi)\n",
        "kx = np.array([[[kx]*zi]*yi]*xi)\n",
        "ky = np.array([[[ky]*zi]*yi]*xi)\n",
        "kz = np.array([[[kz]*zi]*yi]*xi)\n",
        "B = np.array([[[B]*zi]*yi]*xi)\n",
        "mu = np.array([[[mu]*zi]*yi]*xi)\n",
        "rho = np.array([[[rho]*zi]*yi]*xi)\n",
        "\n",
        "# source term\n",
        "\n",
        "# define the x and y reservoir coordinates \n",
        "xsc = np.array([3])\n",
        "ysc = np.array([2])\n",
        "zsc = np.array([2])\n",
        "\n",
        "# Python starts indexing from 0. So, block 1,1 refers to [0,0], block 2,1\n",
        "# refers to [1,0] and so on. In other words, block i,j refers to [i-1,j-1]\n",
        "xsc = xsc - 1; ysc = ysc - 1; zsc = zsc - 1\n",
        "\n",
        "# define rate of each source term \n",
        "q = np.array([-133.3]) \n",
        "\n",
        "# initiate with zeros. same method with above dx, dy, kx, ky, etc.\n",
        "qsc = np.array([[[0]*zi]*yi]*xi)\n",
        "\n",
        "# replace the zeros at coordinate of source term, with the rate of source term\n",
        "for i, j, k, l in zip(xsc, ysc, zsc, range(len(q))):\n",
        "  qsc[i][j][k] = q[l]\n",
        "\n",
        "# plot the injected grid point\n",
        "for i, j, k in zip(xsc, ysc, zsc):\n",
        "  ax.scatter3D(x[i,j,k], y[i,j,k], z[i,j,k], s=50, color='red')\n",
        "\n",
        "print('Right-Hand Side (RHS) of Flow equation in each internal block')\n",
        "print('1st term: Flow in X-direction from previous block')\n",
        "print('2nd term: Flow in X-direction from next block')\n",
        "print('3rd term: Flow in Y-direction from previous block')\n",
        "print('4th term: Flow in Y-direction from next block')\n",
        "print('5th term: Flow in Z-direction from previous block')\n",
        "print('6th term: Flow in Z-direction from next block')\n",
        "print('7th term: Source accumulation \\n')\n",
        "\n",
        "for a, i, c in zip(range(0, xi-2), range(1, xi-1), range(2, xi)):\n",
        "  for d, j, e in zip(range(0, yi-2), range(1, yi-1), range(2, yi)):\n",
        "    for f, k, g in zip(range(0, zi-2), range(1, zi-1), range(2, zi)):\n",
        "      Ax = dy[i,j,k] * dz[i,j,k]\n",
        "      Ay = dx[i,j,k] * dz[i,j,k]\n",
        "      Az = dx[i,j,k] * dy[i,j,k]\n",
        "\n",
        "      # flow to x direction\n",
        "      Tx_min = .001127 * (kx[i,j,k] * Ax) / (mu[i,j,k] * B[i,j,k] * dx[i,j,k])\n",
        "      Tx_plus = Tx_min\n",
        "\n",
        "      # flow to y direction\n",
        "      Ty_min = .001127 * (ky[i,j,k] * Ay) / (mu[i,j,k] * B[i,j,k] * dy[i,j,k])\n",
        "      Ty_plus = Ty_min \n",
        "\n",
        "      # flow to y direction\n",
        "      Tz_min = .001127 * (kz[i,j,k] * Az) / (mu[i,j,k] * B[i,j,k] * dz[i,j,k])\n",
        "      Tz_plus = Tz_min\n",
        "\n",
        "      # in 3D case (unlike 1D, 2D), the term γ is not neglected, because there is Z\n",
        "      # for example: block (3,2,1) and block (3,2,2) has Z = -33.33 ft\n",
        "      # block (3,2,3) and block (3,2,2) has Z = 33.33 ft\n",
        "      # then, γ is multiplied by Z\n",
        "\n",
        "      # Z for flow from below\n",
        "      Z_min = - dz[i,j,k]\n",
        "\n",
        "      # Z for flow from above\n",
        "      Z_plus = dz[i,j,k]\n",
        "\n",
        "      # gamma\n",
        "      gamma_min = .21584E-3 * rho[i,j,k] * 32.174\n",
        "      gamma_plus = gamma_min\n",
        "\n",
        "      Z_gamma_min = Z_min * gamma_min\n",
        "      Z_gamma_plus = Z_plus * gamma_plus\n",
        "\n",
        "      # flow equation \n",
        "      print('Block {},{},{}: {} (p{},{} - p{},{}) + {} (p{},{} - p{},{}) + {} (p{},{} - p{},{}) + {} (p{},{} - p{},{}) + [ {} (p{},{},{} - p{},{},{}) + ({}) ] + [ {} (p{},{},{} - p{},{},{}) + ({}) ] + ({})'.format(i+1, j+1, k+1, Tx_min, a+1, j+1, i+1, j+1, Tx_plus, c+1, j+1, i+1, j+1, Ty_min, i+1, d+1, i+1, j+1, Ty_plus, i+1, e+1, i+1, j+1, Tz_min, i+1 ,j+1 ,f+1 ,i+1 ,j+1 ,k+1, Z_gamma_min, Tz_plus, i+1 ,j+1 ,g+1 ,i+1 ,j+1 ,k+1, Z_gamma_plus, qsc[i,j,k]))        "
      ],
      "execution_count": 27,
      "outputs": [
        {
          "output_type": "stream",
          "text": [
            "Block 3,2,2\n"
          ],
          "name": "stdout"
        },
        {
          "output_type": "display_data",
          "data": {
            "image/png": "[encoded data removed]",
            "text/plain": [
              "<Figure size 720x504 with 1 Axes>"
            ]
          },
          "metadata": {
            "tags": [],
            "needs_background": "light"
          }
        },
        {
          "output_type": "stream",
          "text": [
            "Right-Hand Side (RHS) of Flow equation in each internal block\n",
            "1st term: Flow in X-direction from previous block\n",
            "2nd term: Flow in X-direction from next block\n",
            "3rd term: Flow in Y-direction from previous block\n",
            "4th term: Flow in Y-direction from next block\n",
            "5th term: Flow in Z-direction from previous block\n",
            "6th term: Flow in Z-direction from next block\n",
            "7th term: Source accumulation \n",
            "\n",
            "Block 2,2,2: 6.0857391419999995 (p1,2 - p2,2) + 6.0857391419999995 (p3,2 - p2,2) + 3.443576675 (p2,1 - p2,2) + 3.443576675 (p2,3 - p2,2) + [ 63.39438394383944 (p2,2,1 - p2,2,2) + (-12.7313389786704) ] + [ 63.39438394383944 (p2,2,3 - p2,2,2) + (12.7313389786704) ] + (0)\n",
            "Block 3,2,2: 6.0857391419999995 (p2,2 - p3,2) + 6.0857391419999995 (p4,2 - p3,2) + 3.443576675 (p3,1 - p3,2) + 3.443576675 (p3,3 - p3,2) + [ 63.39438394383944 (p3,2,1 - p3,2,2) + (-12.7313389786704) ] + [ 63.39438394383944 (p3,2,3 - p3,2,2) + (12.7313389786704) ] + (-133)\n"
          ],
          "name": "stdout"
        }
      ]
    },
    {
      "cell_type": "code",
      "metadata": {
        "id": "D3oIyjYLMk61",
        "colab_type": "code",
        "colab": {
          "base_uri": "https://localhost:8080/",
          "height": 282
        },
        "outputId": "ab044b14-07e9-4215-ab87-4828bc80785a"
      },
      "source": [
        "x = np.arange(-5, 5, 1)\n",
        "y = np.arange(-5, 5, 1)\n",
        "xx, yy = np.meshgrid(x, y, sparse=True)\n",
        "# z = np.sin(xx**2 + yy**2) / (xx**2 + yy**2)\n",
        "z = np.sin(xx**2 + yy**2) \n",
        "plt.imshow(z, origin='lower', vmin=-5, vmax=5, cmap='seismic', interpolation=\"none\")\n",
        "plt.colorbar()"
      ],
      "execution_count": 41,
      "outputs": [
        {
          "output_type": "execute_result",
          "data": {
            "text/plain": [
              "<matplotlib.colorbar.Colorbar at 0x7fbc8b1d0400>"
            ]
          },
          "metadata": {
            "tags": []
          },
          "execution_count": 41
        },
        {
          "output_type": "display_data",
          "data": {
            "image/png": "[encoded data removed]",
            "text/plain": [
              "<Figure size 432x288 with 2 Axes>"
            ]
          },
          "metadata": {
            "tags": [],
            "needs_background": "light"
          }
        }
      ]
    }
  ]
}